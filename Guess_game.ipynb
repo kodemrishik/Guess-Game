{
  "nbformat": 4,
  "nbformat_minor": 0,
  "metadata": {
    "colab": {
      "provenance": []
    },
    "kernelspec": {
      "name": "python3",
      "display_name": "Python 3"
    },
    "language_info": {
      "name": "python"
    }
  },
  "cells": [
    {
      "cell_type": "code",
      "execution_count": 1,
      "metadata": {
        "colab": {
          "base_uri": "https://localhost:8080/"
        },
        "id": "9uochVzbITob",
        "outputId": "2fd00ec4-de72-411b-b178-616d0c080f2b"
      },
      "outputs": [
        {
          "output_type": "stream",
          "name": "stdout",
          "text": [
            "Hello traveler! Welcome to the game of guesses!\n",
            "What is your name? Sreekie\n",
            "Hi, Sreekie, would you like to play the guessing game? (Enter Yes/No): Yes\n",
            "There is currently no best score, it's yours for the taking!\n",
            "Pick a number between 1 and 10: 6\n",
            "It's lower\n",
            "Pick a number between 1 and 10: 9\n",
            "It's lower\n",
            "Pick a number between 1 and 10: 4\\\n",
            "Oh no!, that is not a valid value. Try again...\n",
            "invalid literal for int() with base 10: '4\\\\'\n",
            "Pick a number between 1 and 10: 4\n",
            "It's lower\n",
            "Pick a number between 1 and 10: 2\n",
            "It's lower\n",
            "Pick a number between 1 and 10: 1\n",
            "Nice! You got it!\n",
            "It took you 5 attempts\n",
            "Would you like to play again? (Enter Yes/No): no\n",
            "That's cool, have a good one!\n"
          ]
        }
      ],
      "source": [
        "import random\n",
        "\n",
        "attempts_list = []\n",
        "\n",
        "def show_score():\n",
        "    if not attempts_list:\n",
        "        print('There is currently no best score, it\\'s yours for the taking!')\n",
        "    else:\n",
        "        print(f'The current best score is {min(attempts_list)} attempts')\n",
        "\n",
        "def start_game():\n",
        "    attempts = 0\n",
        "    rand_num = random.randint(1, 10)\n",
        "\n",
        "    print('Hello traveler! Welcome to the game of guesses!')\n",
        "    player_name = input('What is your name? ')\n",
        "    wanna_play = input(f'Hi, {player_name}, would you like to play the guessing game? (Enter Yes/No): ')\n",
        "\n",
        "    if wanna_play.lower() != 'yes':\n",
        "        print('That\\'s cool, Thanks!')\n",
        "        return\n",
        "    else:\n",
        "        show_score()\n",
        "\n",
        "    while wanna_play.lower() == 'yes':\n",
        "        try:\n",
        "            guess = int(input('Pick a number between 1 and 10: '))\n",
        "            if guess < 1 or guess > 10:\n",
        "                raise ValueError('Please guess a number within the given range')\n",
        "\n",
        "            attempts += 1\n",
        "\n",
        "            if guess == rand_num:\n",
        "                attempts_list.append(attempts)\n",
        "                print('Nice! You got it!')\n",
        "                print(f'It took you {attempts} attempts')\n",
        "                wanna_play = input('Would you like to play again? (Enter Yes/No): ')\n",
        "                if wanna_play.lower() != 'yes':\n",
        "                    print('That\\'s cool, have a good one!')\n",
        "                    break\n",
        "                else:\n",
        "                    attempts = 0\n",
        "                    rand_num = random.randint(1, 10)\n",
        "                    show_score()\n",
        "                    continue\n",
        "            else:\n",
        "                if guess > rand_num:\n",
        "                    print('It\\'s lower')\n",
        "                elif guess < rand_num:\n",
        "                    print('It\\'s higher')\n",
        "\n",
        "        except ValueError as err:\n",
        "            print('Oh no!, that is not a valid value. Try again...')\n",
        "            print(err)\n",
        "\n",
        "if __name__ == '__main__':\n",
        "    start_game()\n"
      ]
    }
  ]
}